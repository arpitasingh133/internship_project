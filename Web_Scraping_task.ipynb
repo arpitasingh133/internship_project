{
 "cells": [
  {
   "cell_type": "code",
   "execution_count": 1,
   "metadata": {},
   "outputs": [
    {
     "name": "stdout",
     "output_type": "stream",
     "text": [
      "+----------------------+--------------------------------------------------------------------------------------------------------------------------------------------------------------------------------------------------------------------------------------------------------------------------------------------------------------------------------------------------------------------------------------------------------------------------------------------------------------------------------------------------------------------------------------------------------------------------------------------------------------------------------------------------------------------------------------------------------------------------------------------+\n",
      "|        Title         |                                                                                                                                                                                                                                                                                                                                                                  Summary                                                                                                                                                                                                                                                                                                                                                                   |\n",
      "+----------------------+--------------------------------------------------------------------------------------------------------------------------------------------------------------------------------------------------------------------------------------------------------------------------------------------------------------------------------------------------------------------------------------------------------------------------------------------------------------------------------------------------------------------------------------------------------------------------------------------------------------------------------------------------------------------------------------------------------------------------------------------+\n",
      "|       Contents       |                                                                                                                                                                    Incomputer scienceandcomputer engineering,computer architectureis a description of the structure of acomputersystem made from component parts.[1]It can sometimes be a high-level description that ignores details of the implementation.[2]At a more detailed level, the description may include theinstruction set architecturedesign,microarchitecturedesign,logic design, andimplementation.[3]                                                                                                                                                                     |\n",
      "|    History[edit]     |                                                                                                                                                          The first documented computer architecture was in the correspondence betweenCharles BabbageandAda Lovelace, describing theanalytical engine. While building the computerZ1in 1936,Konrad Zusedescribed in two patent applications for his future projects that machine instructions could be stored in the same storage used for data, i.e., thestored-programconcept.[4][5]Two other early and important examples are:                                                                                                                                                           |\n",
      "| Subcategories[edit]  | The term \"architecture\" in computer literature can be traced to the work of Lyle R. Johnson andFrederick P. Brooks, Jr., members of the Machine Organization department in IBM's main research center in 1959. Johnson had the opportunity to write a proprietary research communication about theStretch, an IBM-developedsupercomputerforLos Alamos National Laboratory(at the time known as Los Alamos Scientific Laboratory). To describe the level of detail for discussing the luxuriously embellished computer, he noted that his description of formats, instruction types, hardware parameters, and speed enhancements were at the level of \"system architecture\", a term that seemed more useful than \"machine organization\".[8] |\n",
      "|     Roles[edit]      |                                                                                                                                                                                   Subsequently, Brooks, a Stretch designer, opened Chapter 2 of a book calledPlanning a Computer System: Project Stretchby stating, \"Computer architecture, like other architecture, is the art of determining the needs of the user of a structure and then designing to meet those needs as effectively as possible within economic and technological constraints.\"[9]                                                                                                                                                                                   |\n",
      "|  Design goals[edit]  |                                                                                                                                                                                                                                         Brooks went on to help develop theIBM System/360(now called theIBM zSeries) line of computers, in which \"architecture\" became a noun defining \"what the user needs to know\".[10]Later, computer users came to use the term in many less explicit ways.[11]                                                                                                                                                                                                                                         |\n",
      "|    See also[edit]    |                                                                                                                                                                                       The earliest computer architectures were designed on paper and then directly built into the final hardware form.[12]Later, computer architecture prototypes were physically built in the form of atransistor–transistor logic(TTL) computer—such as the prototypes of the6800and thePA-RISC—tested, and tweaked, before committing to the final hardware form.                                                                                                                                                                                       |\n",
      "|                      |                                                                                                                                                                                                                                  As of the 1990s, new computer architectures are typically \"built\", tested, and tweaked—inside some other computer architecture in acomputer architecture simulator; or inside a FPGA as asoft microprocessor; or both—before committing to the final hardware form.[13]                                                                                                                                                                                                                                   |\n",
      "|   References[edit]   |                                                                                                                                                                                                                                                                                                                                 The discipline of computer architecture has three main subcategories:[14]                                                                                                                                                                                                                                                                                                                                  |\n",
      "|    Sources[edit]     |                                                                                                                                                                                                                                                                 There are other technologies in computer architecture. The following technologies are used in bigger companies like Intel, and were estimated in 2002[14]to count for 1% of all of computer architecture:                                                                                                                                                                                                                                                                  |\n",
      "| External links[edit] |       Computer architecture is concerned with balancing the performance, efficiency, cost, and reliability of a computer system. The case of instruction set architecture can be used to illustrate the balance of these competing factors. More complex instruction sets enable programmers to write more space efficient programs, since a single instruction can encode some higher-level abstraction (such as thex86 Loop instruction).[17]However, longer and more complex instructions take longer for the processor to decode and can be more costly to implement effectively. The increased complexity from a large instruction set also creates more room for unreliability when instructions interact in unexpected ways.        |\n",
      "+----------------------+--------------------------------------------------------------------------------------------------------------------------------------------------------------------------------------------------------------------------------------------------------------------------------------------------------------------------------------------------------------------------------------------------------------------------------------------------------------------------------------------------------------------------------------------------------------------------------------------------------------------------------------------------------------------------------------------------------------------------------------------+\n"
     ]
    }
   ],
   "source": [
    "import requests\n",
    "from bs4 import BeautifulSoup\n",
    "from prettytable import PrettyTable\n",
    "\n",
    "def fetch_data(url, title_tag, summary_tag):\n",
    "    # Fetch the webpage content\n",
    "    response = requests.get(url)\n",
    "    if response.status_code != 200:\n",
    "        print(f\"Failed to fetch {url}\")\n",
    "        return []\n",
    "\n",
    "    soup = BeautifulSoup(response.content, 'html.parser')\n",
    "    \n",
    "    titles = soup.find_all(title_tag)\n",
    "    summaries = soup.find_all(summary_tag)\n",
    "    \n",
    "    data = []\n",
    "    for title, summary in zip(titles, summaries):\n",
    "        data.append({\n",
    "            'title': title.get_text(strip=True),\n",
    "            'summary': summary.get_text(strip=True)\n",
    "        })\n",
    "    \n",
    "    return data\n",
    "\n",
    "def present_data(data):\n",
    "    table = PrettyTable()\n",
    "    table.field_names = [\"Title\", \"Summary\"]\n",
    "    \n",
    "    for item in data:\n",
    "        table.add_row([item['title'], item['summary']])\n",
    "    \n",
    "    print(table)\n",
    "\n",
    "def main():\n",
    "    url = input(\"Enter the URL of the news website: \")\n",
    "    title_tag = input(\"Enter the HTML tag for titles (e.g., 'h2'): \")\n",
    "    summary_tag = input(\"Enter the HTML tag for summaries (e.g., 'p'): \")\n",
    "\n",
    "    data = fetch_data(url, title_tag, summary_tag)\n",
    "    if data:\n",
    "        present_data(data)\n",
    "    else:\n",
    "        print(\"No data found or failed to fetch data.\")\n",
    "\n",
    "if __name__ == \"__main__\":\n",
    "    main()\n"
   ]
  }
 ],
 "metadata": {
  "kernelspec": {
   "display_name": "Python 3",
   "language": "python",
   "name": "python3"
  },
  "language_info": {
   "codemirror_mode": {
    "name": "ipython",
    "version": 3
   },
   "file_extension": ".py",
   "mimetype": "text/x-python",
   "name": "python",
   "nbconvert_exporter": "python",
   "pygments_lexer": "ipython3",
   "version": "3.12.4"
  }
 },
 "nbformat": 4,
 "nbformat_minor": 2
}
