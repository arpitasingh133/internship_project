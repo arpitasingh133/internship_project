{
 "cells": [
  {
   "cell_type": "code",
   "execution_count": null,
   "metadata": {},
   "outputs": [],
   "source": [
    "pip install requests beautifulsoup4 prettytable"
   ]
  },
  {
   "cell_type": "code",
   "execution_count": 11,
   "metadata": {},
   "outputs": [
    {
     "name": "stdout",
     "output_type": "stream",
     "text": [
      "+---------------------------------------+---------------------------------------------------------------------------------------------------------------------------------------------------------------------------------------------------------------------------------------------------------------------------------------------------------------------------------------------------------------------------------------------------------------------------------------------------------------------------------------------------------------------------------------------------------------------------------------------------------------------------------------------------------------------------------------------------------------------------------------------------------------------------------------------------------------------------------------------------------------------------------------------------------------------------------------------------------------------------------------------------------------------------------------------------------------------------------------------------------------------------------------------+\n",
      "|                 Title                 |                                                                                                                                                                                                                                                                                                                                                                                                                                                                                                                                                                   Summary                                                                                                                                                                                                                                                                                                                                                                                                                                                                                                                                                                   |\n",
      "+---------------------------------------+---------------------------------------------------------------------------------------------------------------------------------------------------------------------------------------------------------------------------------------------------------------------------------------------------------------------------------------------------------------------------------------------------------------------------------------------------------------------------------------------------------------------------------------------------------------------------------------------------------------------------------------------------------------------------------------------------------------------------------------------------------------------------------------------------------------------------------------------------------------------------------------------------------------------------------------------------------------------------------------------------------------------------------------------------------------------------------------------------------------------------------------------+\n",
      "|                Contents               |                                                                                                                                                                                                                                                                                                                                                                                                                                                                                                                                                                                                                                                                                                                                                                                                                                                                                                                                                                                                                                                                                                                                             |\n",
      "|     Early life and education[edit]    |                                                                                                                                                                                                                                                                                                                                                                                                                    Jonas Edward Salk(/sɔːlk/; bornJonas Salk; October 28, 1914 – June 23, 1995) was an Americanvirologistandmedical researcherwho developed one of the first successfulpolio vaccines. He was born in New York City and attended theCity College of New YorkandNew York University School of Medicine.[2]                                                                                                                                                                                                                                                                                                                                                                                                                   |\n",
      "|          Polio research[edit]         |                                                                                                                                                                                                                                                                                                                                                                                                                            In 1947, Salk accepted a professorship at theUniversity of Pittsburgh School of Medicine, where he undertook a project beginning in 1948 to determine the number of different types ofpoliovirus. For the next seven years, Salk devoted himself to developing a vaccine againstpolio.                                                                                                                                                                                                                                                                                                                                                                                                                           |\n",
      "|     Becoming a public figure[edit]    | Salk was immediately hailed as a \"miracle worker\" when the vaccine's success was first made public in April 1955, and chose to not patent the vaccine or seek any profit from it in order to maximize its global distribution.[2]TheNational Foundation for Infantile Paralysisand the University of Pittsburgh looked into patenting the vaccine, but since Salk's techniques were not novel, theirpatent attorneysaid, \"If there were any patentable novelty to be found in this phase it would lie within an extremely narrow scope and would be of doubtful value.\"[3][4]An immediate rush to vaccinate began in the United States and around the world. Many countries began polio immunization campaigns using Salk's vaccine, including Canada, Sweden, Denmark, Norway, West Germany, the Netherlands, Switzerland, and Belgium. By 1959, the Salk vaccine had reached about 90 countries.[5]An attenuated liveoral polio vaccinewas developed byAlbert Sabin, coming into commercial use in 1961. Less than 25 years after the release of Salk's vaccine, domestic transmission of polio had been eliminated in the United States. |\n",
      "| Establishing the Salk Institute[edit] |                                                                                                                                                                                                                                                                               In 1963, Salk founded theSalk Institute for Biological StudiesinLa Jolla, California, which is today a center for medical and scientific research. He continued to conduct research and publish books in his later years, focusing in his last years on the search for avaccine against HIV. Salk campaigned vigorously formandatory vaccinationthroughout the rest of his life, calling the universal vaccination of children against disease a \"moral commitment\".[6]Salk's personal papers are today stored inGeisel Libraryat theUniversity of California, San Diego.[7][8]                                                                                                                                                                                                                                                                               |\n",
      "|        AIDS vaccine work[edit]        |                                                                                                                                                                                                                                                                                                          Jonas Salk was born inNew York Cityto Daniel and Dora (née Press) Salk. His parents were Jewish; Daniel was born inNew Jerseyto immigrant parents, and Dora, who was born inMinsk, emigrated to the United States when she was twelve.[9][10]Salk's parents did not receive extensive formal education.[11]Jonas had two younger brothers, Herman andLee, achild psychologist.[12]The family moved fromEast Harlemto 853 Elsmere Place inthe Bronx,[13]with some time spent inQueensat 439 Beach 69th Street,Arverne.[14]                                                                                                                                                                                                                                                                                                          |\n",
      "|      Salk's \"biophilosophy\"[edit]     |                                                                                                                                                            When he was 13, Salk enteredTownsend Harris High School, a public school for intellectually gifted students. Named after the founder ofCity College of New York(CCNY), it was \"a launching pad for the talented sons of immigrant parents who lacked the money—and pedigree—to attend a top private school\", according to David Oshinsky, his biographer. In high school, \"he was known as a perfectionist...who read everything he could lay his hands on,\" according to one of his fellow students.[15]Students had to cram a four-year curriculum into just three years. As a result, most dropped out or flunked out, despite the school's motto \"study, study, study.\" However, of the students who graduated, most had the grades to enroll in CCNY, then noted for being a highly competitive college.[16]: 96                                                                                                                                                            |\n",
      "|     Personal life and death[edit]     |                                                                                                                                                                                                                                                                                                                                                                           Salk enrolled in CCNY, where he earned aBachelor of Sciencedegree in chemistry in 1934.[17]Oshinsky writes that \"for working-class immigrant families, City College represented the apex of public higher education. Getting in was tough, but tuition was free. Competition was intense, but the rules were fairly applied. No one got an advantage based on an accident of birth.\"[16]                                                                                                                                                                                                                                                                                                                                                                          |\n",
      "|      Honors and recognition[edit]     |                                                                                                                                              At his mother's urging, he put aside aspirations of becoming a lawyer and instead concentrated on classes necessary for admission to medical school. However, according to Oshinsky, the facilities at City College were \"barely second rate.\" There were no research laboratories. The library was inadequate. The faculty contained few noted scholars. \"What made the place special,\" he writes, \"was the student body that had fought so hard to get there... driven by their parents.... From these ranks, of the 1930s and 1940s, emerged a wealth of intellectual talent, including moreNobel Prizewinners—eight—and PhD recipients than any other public college except theUniversity of California at Berkeley.\" Salk entered CCNY at the age of 15, a \"common age for a freshman who had skipped multiple grades along the way.\"[16]: 98                                                                                                                                             |\n",
      "|      Selected publications[edit]      |                                                                                                                                                                                                                                                                                                                                                                                                               As a child, Salk did not show any interest in medicine or science in general. He said in an interview with theAcademy of Achievement,[18]\"As a child I was not interested in science. I was merely interested in things human, the human side of nature, if you like, and I continue to be interested in that.\"                                                                                                                                                                                                                                                                                                                                                                                                               |\n",
      "|            References[edit]           |                                                                                                                                                                                     After graduating from City College of New York, Salk enrolled inNew York University School of Medicine. According to Oshinsky, NYU based its modest reputation on famous alumni, such asWalter Reed, who helped conqueryellow fever. Tuition was \"comparatively low, better still, it did not discriminate against Jews... while most of the surrounding medical schools—Cornell,Columbia,University of Pennsylvania, andYale—had rigidquotasin place.\" Yale, for example, accepted 76 applicants in 1935 out of a pool of 501. Although 200 of the applicants were Jewish, only five got in.[16]: 98During his years atNew York University Medical School, Salk worked as a laboratory technician during the school year and as a camp counselor in the summer.[17]                                                                                                                                                                                    |\n",
      "|         Further reading[edit]         |                                                                                                                                                                                                                                          During Salk's medical studies, he stood out from his peers, according to Bookchin, \"not just because of his continued academic prowess—he wasAlpha Omega Alpha, thePhi Beta KappaSociety of medical education—but because he had decided he did not want to practice medicine.\" Instead, he became absorbed in research, even taking a year off to studybiochemistry. He later focused more of his studies onbacteriology, which had replaced medicine as his primary interest. He said his desire was to help humankind in general rather than single patients.[15]\"It was the laboratory work, in particular, that gave new direction to his life.\"[16]                                                                                                                                                                                                                                          |\n",
      "|          External links[edit]         |                                                                                                                                      Salk has said, \"My intention was to go to medical school, and then become a medical scientist. I did not intend to practice medicine, although in medical school, and in my internship, I did all the things that were necessary to qualify me in that regard. I had opportunities along the way to drop the idea of medicine and go into science. At one point at the end of my first year of medical school, I received an opportunity to spend a year in research and teaching in biochemistry, which I did. And at the end of that year, I was told that I could, if I wished, switch and get a Ph.D. in biochemistry, but my preference was to stay with medicine. And, I believe that this is all linked to my original ambition, or desire, which was to be of some help to humankind, so to speak, in a larger sense than just on a one-to-one basis.\"[19]                                                                                                                                     |\n",
      "+---------------------------------------+---------------------------------------------------------------------------------------------------------------------------------------------------------------------------------------------------------------------------------------------------------------------------------------------------------------------------------------------------------------------------------------------------------------------------------------------------------------------------------------------------------------------------------------------------------------------------------------------------------------------------------------------------------------------------------------------------------------------------------------------------------------------------------------------------------------------------------------------------------------------------------------------------------------------------------------------------------------------------------------------------------------------------------------------------------------------------------------------------------------------------------------------+\n"
     ]
    }
   ],
   "source": [
    "import requests\n",
    "from bs4 import BeautifulSoup\n",
    "from prettytable import PrettyTable\n",
    "\n",
    "def fetch_data(url, title_tag, summary_tag):\n",
    "    # Fetch the webpage content\n",
    "    response = requests.get(url)\n",
    "    if response.status_code != 200:\n",
    "        print(f\"Failed to fetch {url}\")\n",
    "        return []\n",
    "\n",
    "    # Parse the HTML content\n",
    "    soup = BeautifulSoup(response.content, 'html.parser')\n",
    "    \n",
    "    # Extract data\n",
    "    titles = soup.find_all(title_tag)\n",
    "    summaries = soup.find_all(summary_tag)\n",
    "    \n",
    "    # Combine titles and summaries\n",
    "    data = []\n",
    "    for title, summary in zip(titles, summaries):\n",
    "        data.append({\n",
    "            'title': title.get_text(strip=True),\n",
    "            'summary': summary.get_text(strip=True)\n",
    "        })\n",
    "    \n",
    "    return data\n",
    "\n",
    "def present_data(data):\n",
    "    # Create a PrettyTable instance\n",
    "    table = PrettyTable()\n",
    "    table.field_names = [\"Title\", \"Summary\"]\n",
    "    \n",
    "    for item in data:\n",
    "        table.add_row([item['title'], item['summary']])\n",
    "    \n",
    "    # Print the table\n",
    "    print(table)\n",
    "\n",
    "def main():\n",
    "    url = input(\"Enter the URL of the news website: \")\n",
    "    title_tag = input(\"Enter the HTML tag for titles (e.g., 'h2'): \")\n",
    "    summary_tag = input(\"Enter the HTML tag for summaries (e.g., 'p'): \")\n",
    "\n",
    "    data = fetch_data(url, title_tag, summary_tag)\n",
    "    if data:\n",
    "        present_data(data)\n",
    "    else:\n",
    "        print(\"No data found or failed to fetch data.\")\n",
    "\n",
    "if __name__ == \"__main__\":\n",
    "    main()\n"
   ]
  }
 ],
 "metadata": {
  "kernelspec": {
   "display_name": "Python 3",
   "language": "python",
   "name": "python3"
  },
  "language_info": {
   "codemirror_mode": {
    "name": "ipython",
    "version": 3
   },
   "file_extension": ".py",
   "mimetype": "text/x-python",
   "name": "python",
   "nbconvert_exporter": "python",
   "pygments_lexer": "ipython3",
   "version": "3.12.4"
  }
 },
 "nbformat": 4,
 "nbformat_minor": 2
}
