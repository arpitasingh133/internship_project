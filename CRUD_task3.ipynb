{
 "cells": [
  {
   "cell_type": "code",
   "execution_count": 14,
   "metadata": {},
   "outputs": [],
   "source": [
    "task = []"
   ]
  },
  {
   "cell_type": "code",
   "execution_count": 15,
   "metadata": {},
   "outputs": [],
   "source": [
    "def create_task():\n",
    "    task_name = input(\"Enter task name: \")\n",
    "    task.append(task_name)\n",
    "    print(f\"Task '{task_name}' added successfully!\")"
   ]
  },
  {
   "cell_type": "code",
   "execution_count": 16,
   "metadata": {},
   "outputs": [],
   "source": [
    "def view_task():\n",
    "    if not task:\n",
    "        print(\"Task not found! Try again\")\n",
    "    else:\n",
    "        print(\"Task found! Here is the task:\")\n",
    "        for index, task in enumerate(task, start=1):\n",
    "            print(f\"{index}. {task}\")"
   ]
  },
  {
   "cell_type": "code",
   "execution_count": 17,
   "metadata": {},
   "outputs": [],
   "source": [
    "def update_task():\n",
    "    view_task()\n",
    "    if task:\n",
    "        try:\n",
    "            index = int(input(\"Enter the task number : \")) - 1\n",
    "            if 0 <= index < len(task):\n",
    "                new_task_name = input(\"Enter the new task name: \")\n",
    "                task[index] = new_task_name\n",
    "                print(f\"Updated successfully.\")\n",
    "            else:\n",
    "                print(\"Invalid task number.\")\n",
    "        except ValueError:\n",
    "            print(\"Invalid input. Please enter a number.\")\n",
    "\n"
   ]
  },
  {
   "cell_type": "code",
   "execution_count": 18,
   "metadata": {},
   "outputs": [],
   "source": [
    "def delete_task():\n",
    "    view_task()\n",
    "    if task:\n",
    "        try:\n",
    "            index = int(input(\"Enter task number to be deleted: \")) - 1 \n",
    "            if 0 <= index < len(task):\n",
    "                deleted_task = task.pop(index)\n",
    "                print(f\"Task '{deleted_task}' deleted successfully.\")\n",
    "            else:\n",
    "                print(\"Invalid task number.\")\n",
    "        except ValueError:\n",
    "            print(\"Invalid input. Kindly enter again.\")"
   ]
  },
  {
   "cell_type": "code",
   "execution_count": 19,
   "metadata": {},
   "outputs": [],
   "source": [
    "def main():\n",
    "    while True:\n",
    "        print(\"\\n Task List\")\n",
    "        print(\"1. Add Task\")\n",
    "        print(\"2. View Tasks\")\n",
    "        print(\"3. Delete Task\")\n",
    "        print(\"4. Update Task!\")\n",
    "        print(\"5. Exit\")\n",
    "        choice = input(\"Choose an option: \").strip()\n",
    "\n",
    "        if choice =='1':\n",
    "            create_task()\n",
    "        elif choice == '2':\n",
    "            view_tasks()\n",
    "        elif choice == '3':\n",
    "            delete_task()\n",
    "        elif choice == '4':\n",
    "            update_task()\n",
    "        elif choice == '5':\n",
    "            exit()\n",
    "        else:\n",
    "            print(\"Invalid choice. Please choose a valid option.\")\n"
   ]
  },
  {
   "cell_type": "code",
   "execution_count": 20,
   "metadata": {},
   "outputs": [
    {
     "name": "stdout",
     "output_type": "stream",
     "text": [
      "Task 'coffee' added successfully!\n"
     ]
    }
   ],
   "source": [
    "create_task()"
   ]
  },
  {
   "cell_type": "code",
   "execution_count": null,
   "metadata": {},
   "outputs": [],
   "source": []
  },
  {
   "cell_type": "code",
   "execution_count": null,
   "metadata": {},
   "outputs": [],
   "source": []
  }
 ],
 "metadata": {
  "kernelspec": {
   "display_name": "Python 3",
   "language": "python",
   "name": "python3"
  },
  "language_info": {
   "codemirror_mode": {
    "name": "ipython",
    "version": 3
   },
   "file_extension": ".py",
   "mimetype": "text/x-python",
   "name": "python",
   "nbconvert_exporter": "python",
   "pygments_lexer": "ipython3",
   "version": "3.11.7"
  }
 },
 "nbformat": 4,
 "nbformat_minor": 2
}
